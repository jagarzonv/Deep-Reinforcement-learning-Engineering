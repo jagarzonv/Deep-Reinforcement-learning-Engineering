{
 "cells": [
  {
   "cell_type": "markdown",
   "metadata": {},
   "source": [
    "# Continuous Control\n",
    "\n",
    "---\n",
    "\n",
    "In this notebook, you will learn how to use the Unity ML-Agents environment for the second project of the [Deep Reinforcement Learning Nanodegree](https://www.udacity.com/course/deep-reinforcement-learning-nanodegree--nd893) program.\n",
    "\n",
    "### 1. Start the Environment and Select the Enviroment for 1 agent or 20 agents\n",
    "\n",
    "We begin by importing the necessary packages.  If the code cell below returns an error, please revisit the project instructions to double-check that you have installed [Unity ML-Agents](https://github.com/Unity-Technologies/ml-agents/blob/master/docs/Installation.md) and [NumPy](http://www.numpy.org/)."
   ]
  },
  {
   "cell_type": "code",
   "execution_count": 1,
   "metadata": {},
   "outputs": [],
   "source": [
    "from unityagents import UnityEnvironment\n",
    "import torch\n",
    "import random\n",
    "from collections import deque\n",
    "import numpy as np\n",
    "import matplotlib.pyplot as plt\n",
    "%matplotlib inline"
   ]
  },
  {
   "cell_type": "markdown",
   "metadata": {},
   "source": [
    "Next, we will start the environment!  **_Before running the code cell below_**, change the `file_name` parameter to match the location of the Unity environment that you downloaded.\n",
    "\n",
    "- **Mac**: `\"path/to/Reacher.app\"`\n",
    "- **Windows** (x86): `\"path/to/Reacher_Windows_x86/Reacher.exe\"`\n",
    "- **Windows** (x86_64): `\"path/to/Reacher_Windows_x86_64/Reacher.exe\"`\n",
    "- **Linux** (x86): `\"path/to/Reacher_Linux/Reacher.x86\"`\n",
    "- **Linux** (x86_64): `\"path/to/Reacher_Linux/Reacher.x86_64\"`\n",
    "- **Linux** (x86, headless): `\"path/to/Reacher_Linux_NoVis/Reacher.x86\"`\n",
    "- **Linux** (x86_64, headless): `\"path/to/Reacher_Linux_NoVis/Reacher.x86_64\"`\n",
    "\n",
    "For instance, if you are using a Mac, then you downloaded `Reacher.app`.  If this file is in the same folder as the notebook, then the line below should appear as follows:\n",
    "```\n",
    "env = UnityEnvironment(file_name=\"Reacher.app\")\n",
    "```"
   ]
  },
  {
   "cell_type": "code",
   "execution_count": 2,
   "metadata": {},
   "outputs": [
    {
     "name": "stderr",
     "output_type": "stream",
     "text": [
      "INFO:unityagents:\n",
      "'Academy' started successfully!\n",
      "Unity Academy name: Academy\n",
      "        Number of Brains: 1\n",
      "        Number of External Brains : 1\n",
      "        Lesson number : 0\n",
      "        Reset Parameters :\n",
      "\t\tgoal_speed -> 1.0\n",
      "\t\tgoal_size -> 5.0\n",
      "Unity brain name: ReacherBrain\n",
      "        Number of Visual Observations (per agent): 0\n",
      "        Vector Observation space type: continuous\n",
      "        Vector Observation space size (per agent): 33\n",
      "        Number of stacked Vector Observation: 1\n",
      "        Vector Action space type: continuous\n",
      "        Vector Action space size (per agent): 4\n",
      "        Vector Action descriptions: , , , \n"
     ]
    }
   ],
   "source": [
    "#Select the enviroment :\n",
    "\n",
    "#For One Agent Select:\n",
    "#env = UnityEnvironment(file_name='D:/deep-reinforcement-learning/p2_continuous-control/Reacher_Windows_x86_64/Reacher.exe')\n",
    "\n",
    "#For Twenty Agents Select:\n",
    "env = UnityEnvironment(file_name='D:/deep-reinforcement-learning/p2_continuous-control/Reacher_Windows_x86_64_20/Reacher.exe')"
   ]
  },
  {
   "cell_type": "markdown",
   "metadata": {},
   "source": [
    "Environments contain **_brains_** which are responsible for deciding the actions of their associated agents. Here we check for the first brain available, and set it as the default brain we will be controlling from Python."
   ]
  },
  {
   "cell_type": "code",
   "execution_count": 3,
   "metadata": {},
   "outputs": [],
   "source": [
    "# get the default brain\n",
    "brain_name = env.brain_names[0]\n",
    "brain = env.brains[brain_name]"
   ]
  },
  {
   "cell_type": "markdown",
   "metadata": {},
   "source": [
    "### 2. Examine the State and Action Spaces\n",
    "\n",
    "In this environment, a double-jointed arm can move to target locations. A reward of `+0.1` is provided for each step that the agent's hand is in the goal location. Thus, the goal of your agent is to maintain its position at the target location for as many time steps as possible.\n",
    "\n",
    "The observation space consists of `33` variables corresponding to position, rotation, velocity, and angular velocities of the arm.  Each action is a vector with four numbers, corresponding to torque applicable to two joints.  Every entry in the action vector must be a number between `-1` and `1`.\n",
    "\n",
    "Run the code cell below to print some information about the environment."
   ]
  },
  {
   "cell_type": "code",
   "execution_count": 4,
   "metadata": {},
   "outputs": [
    {
     "name": "stdout",
     "output_type": "stream",
     "text": [
      "Number of agents: 20\n",
      "Size of each action: 4\n",
      "There are 20 agents. Each observes a state with length: 33\n",
      "The state for the first agent looks like: [ 0.00000000e+00 -4.00000000e+00  0.00000000e+00  1.00000000e+00\n",
      " -0.00000000e+00 -0.00000000e+00 -4.37113883e-08  0.00000000e+00\n",
      "  0.00000000e+00  0.00000000e+00  0.00000000e+00  0.00000000e+00\n",
      "  0.00000000e+00  0.00000000e+00 -1.00000000e+01  0.00000000e+00\n",
      "  1.00000000e+00 -0.00000000e+00 -0.00000000e+00 -4.37113883e-08\n",
      "  0.00000000e+00  0.00000000e+00  0.00000000e+00  0.00000000e+00\n",
      "  0.00000000e+00  0.00000000e+00  5.75471878e+00 -1.00000000e+00\n",
      "  5.55726624e+00  0.00000000e+00  1.00000000e+00  0.00000000e+00\n",
      " -1.68164849e-01]\n"
     ]
    }
   ],
   "source": [
    "# reset the environment\n",
    "env_info = env.reset(train_mode=True)[brain_name]\n",
    "\n",
    "# number of agents\n",
    "num_agents = len(env_info.agents)\n",
    "print('Number of agents:', num_agents)\n",
    "\n",
    "# size of each action\n",
    "action_size = brain.vector_action_space_size\n",
    "print('Size of each action:', action_size)\n",
    "\n",
    "# examine the state space \n",
    "states = env_info.vector_observations\n",
    "state_size = states.shape[1]\n",
    "print('There are {} agents. Each observes a state with length: {}'.format(states.shape[0], state_size))\n",
    "print('The state for the first agent looks like:', states[0])"
   ]
  },
  {
   "cell_type": "markdown",
   "metadata": {},
   "source": [
    "### 3. Take Random Actions in the Environment\n",
    "\n",
    "In the next code cell, you will learn how to use the Python API to control the agent and receive feedback from the environment.\n",
    "\n",
    "Once this cell is executed, you will watch the agent's performance, if it selects an action at random with each time step.  A window should pop up that allows you to observe the agent, as it moves through the environment.  \n",
    "\n",
    "Of course, as part of the project, you'll have to change the code so that the agent is able to use its experience to gradually choose better actions when interacting with the environment!"
   ]
  },
  {
   "cell_type": "code",
   "execution_count": null,
   "metadata": {},
   "outputs": [],
   "source": [
    "env_info = env.reset(train_mode=False)[brain_name]     # reset the environment    \n",
    "states = env_info.vector_observations                  # get the current state (for each agent)\n",
    "scores = np.zeros(num_agents)                          # initialize the score (for each agent)\n",
    "while True:\n",
    "    actions = np.random.randn(num_agents, action_size) # select an action (for each agent)\n",
    "    actions = np.clip(actions, -1, 1)                  # all actions between -1 and 1\n",
    "    env_info = env.step(actions)[brain_name]           # send all actions to tne environment\n",
    "    next_states = env_info.vector_observations         # get next state (for each agent)\n",
    "    rewards = env_info.rewards                         # get reward (for each agent)\n",
    "    dones = env_info.local_done                        # see if episode finished\n",
    "    scores += env_info.rewards                         # update the score (for each agent)\n",
    "    states = next_states                               # roll over states to next time step\n",
    "    if np.any(dones):                                  # exit loop if episode finished\n",
    "        break\n",
    "print('Total score (averaged over agents) this episode: {}'.format(np.mean(scores)))"
   ]
  },
  {
   "cell_type": "markdown",
   "metadata": {},
   "source": [
    "When finished, you can close the environment."
   ]
  },
  {
   "cell_type": "markdown",
   "metadata": {},
   "source": [
    "env.close()"
   ]
  },
  {
   "cell_type": "markdown",
   "metadata": {},
   "source": [
    "### 4. It's Your Turn!\n",
    "\n",
    "Now it's your turn to train your own agent to solve the environment!  When training the environment, set `train_mode=True`, so that the line for resetting the environment looks like the following:\n",
    "```python\n",
    "env_info = env.reset(train_mode=True)[brain_name]\n",
    "```"
   ]
  },
  {
   "cell_type": "markdown",
   "metadata": {},
   "source": [
    "### Solve:  Train the Agent with DDPG"
   ]
  },
  {
   "cell_type": "code",
   "execution_count": 5,
   "metadata": {},
   "outputs": [],
   "source": [
    "# Create the Agent\n",
    "from ddpg_agent_multi import Agent\n",
    "\n",
    "agent = Agent(state_size=state_size, action_size=action_size, random_seed=2, agent_size=num_agents)\n"
   ]
  },
  {
   "cell_type": "code",
   "execution_count": 6,
   "metadata": {},
   "outputs": [
    {
     "name": "stdout",
     "output_type": "stream",
     "text": [
      "Episode 1\tAverage Score: 0.56\n",
      "Episode 2\tAverage Score: 0.40\n",
      "Episode 3\tAverage Score: 0.51\n",
      "Episode 4\tAverage Score: 0.60\n",
      "Episode 5\tAverage Score: 0.60\n",
      "Episode 6\tAverage Score: 0.62\n",
      "Episode 7\tAverage Score: 0.70\n",
      "Episode 8\tAverage Score: 0.75\n",
      "Episode 9\tAverage Score: 0.80\n",
      "Episode 10\tAverage Score: 0.85\n",
      "Episode 11\tAverage Score: 0.95\n",
      "Episode 12\tAverage Score: 1.03\n",
      "Episode 13\tAverage Score: 1.11\n",
      "Episode 14\tAverage Score: 1.14\n",
      "Episode 15\tAverage Score: 1.15\n",
      "Episode 16\tAverage Score: 1.18\n",
      "Episode 17\tAverage Score: 1.18\n",
      "Episode 18\tAverage Score: 1.18\n",
      "Episode 19\tAverage Score: 1.20\n",
      "Episode 20\tAverage Score: 1.21\n",
      "Episode 21\tAverage Score: 1.23\n",
      "Episode 22\tAverage Score: 1.25\n",
      "Episode 23\tAverage Score: 1.26\n",
      "Episode 24\tAverage Score: 1.28\n",
      "Episode 25\tAverage Score: 1.32\n",
      "Episode 26\tAverage Score: 1.36\n",
      "Episode 27\tAverage Score: 1.38\n",
      "Episode 28\tAverage Score: 1.40\n",
      "Episode 29\tAverage Score: 1.44\n",
      "Episode 30\tAverage Score: 1.45\n",
      "Episode 31\tAverage Score: 1.48\n",
      "Episode 32\tAverage Score: 1.51\n",
      "Episode 33\tAverage Score: 1.55\n",
      "Episode 34\tAverage Score: 1.59\n",
      "Episode 35\tAverage Score: 1.63\n",
      "Episode 36\tAverage Score: 1.66\n",
      "Episode 37\tAverage Score: 1.63\n",
      "Episode 38\tAverage Score: 1.69\n",
      "Episode 39\tAverage Score: 1.74\n",
      "Episode 40\tAverage Score: 1.80\n",
      "Episode 41\tAverage Score: 1.84\n",
      "Episode 42\tAverage Score: 1.89\n",
      "Episode 43\tAverage Score: 1.96\n",
      "Episode 44\tAverage Score: 2.03\n",
      "Episode 45\tAverage Score: 2.08\n",
      "Episode 46\tAverage Score: 2.15\n",
      "Episode 47\tAverage Score: 2.21\n",
      "Episode 48\tAverage Score: 2.28\n",
      "Episode 49\tAverage Score: 2.39\n",
      "Episode 50\tAverage Score: 2.50\n",
      "Episode 51\tAverage Score: 2.60\n",
      "Episode 52\tAverage Score: 2.72\n",
      "Episode 53\tAverage Score: 2.85\n",
      "Episode 54\tAverage Score: 2.99\n",
      "Episode 55\tAverage Score: 3.14\n",
      "Episode 56\tAverage Score: 3.28\n",
      "Episode 57\tAverage Score: 3.47\n",
      "Episode 58\tAverage Score: 3.64\n",
      "Episode 59\tAverage Score: 3.88\n",
      "Episode 60\tAverage Score: 4.08\n",
      "Episode 61\tAverage Score: 4.25\n",
      "Episode 62\tAverage Score: 4.46\n",
      "Episode 63\tAverage Score: 4.68\n",
      "Episode 64\tAverage Score: 4.86\n",
      "Episode 65\tAverage Score: 5.06\n",
      "Episode 66\tAverage Score: 5.25\n",
      "Episode 67\tAverage Score: 5.46\n",
      "Episode 68\tAverage Score: 5.65\n",
      "Episode 69\tAverage Score: 5.85\n",
      "Episode 70\tAverage Score: 6.07\n",
      "Episode 71\tAverage Score: 6.27\n",
      "Episode 72\tAverage Score: 6.49\n",
      "Episode 73\tAverage Score: 6.71\n",
      "Episode 74\tAverage Score: 6.90\n",
      "Episode 75\tAverage Score: 7.11\n",
      "Episode 76\tAverage Score: 7.33\n",
      "Episode 77\tAverage Score: 7.55\n",
      "Episode 78\tAverage Score: 7.77\n",
      "Episode 79\tAverage Score: 7.99\n",
      "Episode 80\tAverage Score: 8.20\n",
      "Episode 81\tAverage Score: 8.42\n",
      "Episode 82\tAverage Score: 8.65\n",
      "Episode 83\tAverage Score: 8.86\n",
      "Episode 84\tAverage Score: 9.08\n",
      "Episode 85\tAverage Score: 9.32\n",
      "Episode 86\tAverage Score: 9.56\n",
      "Episode 87\tAverage Score: 9.78\n",
      "Episode 88\tAverage Score: 9.99\n",
      "Episode 89\tAverage Score: 10.20\n",
      "Episode 90\tAverage Score: 10.40\n",
      "Episode 91\tAverage Score: 10.60\n",
      "Episode 92\tAverage Score: 10.80\n",
      "Episode 93\tAverage Score: 11.00\n",
      "Episode 94\tAverage Score: 11.22\n",
      "Episode 95\tAverage Score: 11.44\n",
      "Episode 96\tAverage Score: 11.63\n",
      "Episode 97\tAverage Score: 11.82\n",
      "Episode 98\tAverage Score: 12.04\n",
      "Episode 99\tAverage Score: 12.22\n",
      "Episode 100\tAverage Score: 12.42\n",
      "Episode 101\tAverage Score: 12.73\n",
      "Episode 102\tAverage Score: 13.06\n",
      "Episode 103\tAverage Score: 13.37\n",
      "Episode 104\tAverage Score: 13.68\n",
      "Episode 105\tAverage Score: 14.01\n",
      "Episode 106\tAverage Score: 14.34\n",
      "Episode 107\tAverage Score: 14.67\n",
      "Episode 108\tAverage Score: 14.99\n",
      "Episode 109\tAverage Score: 15.29\n",
      "Episode 110\tAverage Score: 15.62\n",
      "Episode 111\tAverage Score: 15.95\n",
      "Episode 112\tAverage Score: 16.28\n",
      "Episode 113\tAverage Score: 16.63\n",
      "Episode 114\tAverage Score: 16.96\n",
      "Episode 115\tAverage Score: 17.31\n",
      "Episode 116\tAverage Score: 17.67\n",
      "Episode 117\tAverage Score: 18.03\n",
      "Episode 118\tAverage Score: 18.40\n",
      "Episode 119\tAverage Score: 18.76\n",
      "Episode 120\tAverage Score: 19.12\n",
      "Episode 121\tAverage Score: 19.49\n",
      "Episode 122\tAverage Score: 19.85\n",
      "Episode 123\tAverage Score: 20.22\n",
      "Episode 124\tAverage Score: 20.58\n",
      "Episode 125\tAverage Score: 20.94\n",
      "Episode 126\tAverage Score: 21.30\n",
      "Episode 127\tAverage Score: 21.67\n",
      "Episode 128\tAverage Score: 22.03\n",
      "Episode 129\tAverage Score: 22.40\n",
      "Episode 130\tAverage Score: 22.76\n",
      "Episode 131\tAverage Score: 23.12\n",
      "Episode 132\tAverage Score: 23.48\n",
      "Episode 133\tAverage Score: 23.83\n",
      "Episode 134\tAverage Score: 24.19\n",
      "Episode 135\tAverage Score: 24.53\n",
      "Episode 136\tAverage Score: 24.90\n",
      "Episode 137\tAverage Score: 25.27\n",
      "Episode 138\tAverage Score: 25.60\n",
      "Episode 139\tAverage Score: 25.94\n",
      "Episode 140\tAverage Score: 26.27\n",
      "Episode 141\tAverage Score: 26.60\n",
      "Episode 142\tAverage Score: 26.94\n",
      "Episode 143\tAverage Score: 27.28\n",
      "Episode 144\tAverage Score: 27.61\n",
      "Episode 145\tAverage Score: 27.96\n",
      "Episode 146\tAverage Score: 28.29\n",
      "Episode 147\tAverage Score: 28.63\n",
      "Episode 148\tAverage Score: 28.95\n",
      "Episode 149\tAverage Score: 29.26\n",
      "Episode 150\tAverage Score: 29.57\n",
      "Episode 151\tAverage Score: 29.86\n",
      "Episode 152\tAverage Score: 30.14\n",
      "\n",
      "Environment solved in 52 episodes!\tAverage Score: 30.14\n"
     ]
    },
    {
     "data": {
      "image/png": "[encoded data removed]",
      "text/plain": [
       "<Figure size 432x288 with 1 Axes>"
      ]
     },
     "metadata": {},
     "output_type": "display_data"
    }
   ],
   "source": [
    "# Train the Agent\n",
    "\n",
    "def ddpg(n_episodes=1000, max_t=1000, print_every=100):\n",
    "    \"\"\"Deep Deterministic Policy Gradients DDPG  from Pendulum exercise was employed: \n",
    "       Params:\n",
    "            n_episodes (int): maximum number of training episodes\n",
    "            max_t (int): maximum number of timesteps per episode\n",
    "            print_every(int): print update \n",
    "    \"\"\"\n",
    "    scores_deque = deque(maxlen=print_every)\n",
    "    scores = [] # list containing scores from each episode\n",
    "    for i_episode in range(1, n_episodes+1):\n",
    "        env_info = env.reset(train_mode=True)[brain_name] # reset the environment\n",
    "        states = env_info.vector_observations # get the current state\n",
    "        #print('states= ', states.shape)\n",
    "        agent.reset() #initialize agents \n",
    "        ascores = np.zeros(num_agents) \n",
    "        for t in range(max_t):\n",
    "            actions=[] # clear actions\n",
    "            actions = agent.act(states) # select an action   \n",
    "            #print('actions= ',np.array(actions).shape)\n",
    "            action_info = env.step(actions)[brain_name] # get enviroment info\n",
    "            next_states = action_info.vector_observations # get next state (for each agent)\n",
    "            #print('next states= ', next_states.shape)\n",
    "            rewards = action_info.rewards # get reward (for each agent)\n",
    "            #print('rewards= ', np.array(rewards).shape)\n",
    "            dones = action_info.local_done # see if episode finished\n",
    "            #print('dones= ', np.array(dones).shape) \n",
    "            # Save experiences / rewards :\n",
    "            for index in range(0,num_agents):\n",
    "                agent.save_experience(states[index], actions[index], rewards[index], next_states[index], dones[index])\n",
    "            agent.multi_step(t) #Train each agent \n",
    "            states = next_states # roll over states to next time step\n",
    "            #print('second states= ',states)\n",
    "            ascores += rewards # update the score (for each agent)\n",
    "            #print('scores= ', np.array(ascores).shape)\n",
    "\n",
    "            if np.any(dones):\n",
    "                break \n",
    " \n",
    "        scores_deque.append(np.mean(ascores))\n",
    "        scores.append(np.mean(ascores))         # save most recent score\n",
    "        if i_episode % 1 == 0:\n",
    "            print('\\rEpisode {}\\tAverage Score: {:.2f}'.format(i_episode, np.mean(scores_deque)), end=\"\\n\")   \n",
    "        torch.save(agent.actor_local.state_dict(),  'checkpoint_actor.pth' )\n",
    "        torch.save(agent.critic_local.state_dict(), 'checkpoint_critic.pth')\n",
    "        if np.mean(scores_deque)>=30.0:\n",
    "            print('\\nEnvironment solved in {:d} episodes!\\tAverage Score: {:.2f}'.format(i_episode-100, np.mean(scores_deque)))\n",
    "            break\n",
    "            \n",
    "    return scores\n",
    "\n",
    "scores = ddpg()\n",
    "\n",
    "# plot the scores\n",
    "fig = plt.figure()\n",
    "ax = fig.add_subplot(111)\n",
    "plt.plot(np.arange(len(scores)), scores)\n",
    "plt.ylabel('Score')\n",
    "plt.xlabel('Episode #')\n",
    "plt.show()"
   ]
  },
  {
   "cell_type": "markdown",
   "metadata": {},
   "source": [
    "### Watch a Smart Agent!"
   ]
  },
  {
   "cell_type": "code",
   "execution_count": 7,
   "metadata": {},
   "outputs": [
    {
     "name": "stdout",
     "output_type": "stream",
     "text": [
      "Total score (averaged over agents) this episode: 36.43699918556958\n"
     ]
    }
   ],
   "source": [
    "# Play the Trained Agent\n",
    "# load the weights from file\n",
    "agent.actor_local.load_state_dict(torch.load('checkpoint_actor.pth'))\n",
    "agent.critic_local.load_state_dict(torch.load('checkpoint_critic.pth'))\n",
    "\n",
    "env_info = env.reset(train_mode=False)[brain_name] # reset the environment\n",
    "states = env_info.vector_observations              # get the current state (for each agent)\n",
    "scores = np.zeros(num_agents)                      # initialize the score (for each agent)                                         # initialize the score\n",
    "while True:\n",
    "    actions = agent.act(states)                # select an action (for each agent)\n",
    "    actions = np.clip(actions, -1, 1)          # all actions between -1 and 1      \n",
    "    env_info = env.step(actions)[brain_name]   # send the action to the environment                  \n",
    "    next_states =  env_info.vector_observations# get the next state (for each agent)\n",
    "    rewards = env_info.rewards                 # get the reward (for each agent)\n",
    "    dones =env_info.local_done                 # see if episode has finished\n",
    "    scores += rewards                          # update the score (for each agent)\n",
    "    states = next_states                       # roll over the state to next time step\n",
    "    if np.any(dones):                          # exit loop if episode finished\n",
    "        break\n",
    "    \n",
    "print('Total score (averaged over agents) this episode: {}'.format(np.mean(scores)))\n"
   ]
  },
  {
   "cell_type": "code",
   "execution_count": 8,
   "metadata": {},
   "outputs": [],
   "source": [
    "env.close()"
   ]
  },
  {
   "cell_type": "code",
   "execution_count": null,
   "metadata": {},
   "outputs": [],
   "source": []
  }
 ],
 "metadata": {
  "kernelspec": {
   "display_name": "ml-agents",
   "language": "python",
   "name": "ml-agents"
  },
  "language_info": {
   "codemirror_mode": {
    "name": "ipython",
    "version": 3
   },
   "file_extension": ".py",
   "mimetype": "text/x-python",
   "name": "python",
   "nbconvert_exporter": "python",
   "pygments_lexer": "ipython3",
   "version": "3.6.6"
  }
 },
 "nbformat": 4,
 "nbformat_minor": 2
}
